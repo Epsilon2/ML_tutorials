{
 "cells": [
  {
   "cell_type": "markdown",
   "metadata": {},
   "source": [
    "#Solving stochastic (binary) bandits with Exp3, UCB, and Thompson sampling"
   ]
  },
  {
   "cell_type": "code",
   "execution_count": 135,
   "metadata": {
    "collapsed": true
   },
   "outputs": [],
   "source": [
    "import numpy as np\n",
    "import matplotlib.pyplot as plt\n",
    "import math"
   ]
  },
  {
   "cell_type": "code",
   "execution_count": 136,
   "metadata": {
    "collapsed": false
   },
   "outputs": [
    {
     "name": "stdout",
     "output_type": "stream",
     "text": [
      "('Reward probabilities: ', array([ 0.16124432,  0.16917318,  0.41040228,  0.3032692 ,  0.34640959,\n",
      "        0.50982824,  0.43923882,  0.87783091,  0.51762656,  0.34049383]))\n"
     ]
    }
   ],
   "source": [
    "K = 10 #number of arms\n",
    "T = 10000 #timesteps\n",
    "p_reward = np.random.uniform(size = K) #probabilities of reward 1\n",
    "print('Reward probabilities: ', p_reward)"
   ]
  },
  {
   "cell_type": "code",
   "execution_count": 137,
   "metadata": {
    "collapsed": false
   },
   "outputs": [
    {
     "name": "stdout",
     "output_type": "stream",
     "text": [
      "('Weight vector: ', array([  1.49257005e+07,   7.50881536e+08,   7.49426575e+16,\n",
      "         2.49966143e+10,   5.70565938e+11,   1.29783737e+25,\n",
      "         7.20192330e+19,   3.25967318e+38,   1.08589840e+21,\n",
      "         1.19127991e+15]))\n"
     ]
    }
   ],
   "source": [
    "#Exp3\n",
    "gamma = 0.1\n",
    "w = np.ones(K)\n",
    "regret = 0\n",
    "exp3_regret = [regret]\n",
    "for t in range(T):\n",
    "    a,p_action = sample_action(w, t)\n",
    "    r_raw = np.random.binomial(1,p_reward[a])\n",
    "    r_imp_weighted = r_raw / p_action\n",
    "    w[a] = w[a] * np.exp(gamma* r_imp_weighted/K)\n",
    "    regret = regret + max(p_reward)-p_reward[a]\n",
    "    exp3_regret.append(regret)\n",
    "print('Weight vector: ', w)\n",
    "\n",
    "#Sample an action given weight vector\n",
    "def sample_action(w, t):\n",
    "    p = (1-gamma) * w / sum(w) + gamma/K\n",
    "    a = np.random.choice(K,p=p)\n",
    "    return a,p[a]"
   ]
  },
  {
   "cell_type": "code",
   "execution_count": 138,
   "metadata": {
    "collapsed": false
   },
   "outputs": [],
   "source": [
    "#UCB\n",
    "regret = 0\n",
    "ucb_regret = [0]\n",
    "avg_rewards = np.ones(K)/2\n",
    "n_i = np.zeros(K)\n",
    "for t in range(T):\n",
    "    ucb = avg_rewards + np.sqrt(2*math.log(t+1)*1./np.maximum(n_i, np.ones(K)))\n",
    "    a = np.argmax(ucb)\n",
    "    r = np.random.binomial(1,p_reward[a])\n",
    "    avg_rewards[a] = (n_i[a]*avg_rewards[a]+r)/(n_i[a]+1)\n",
    "    n_i[a] = n_i[a]+1\n",
    "    regret = regret + max(p_reward)-p_reward[a]\n",
    "    ucb_regret.append(regret)"
   ]
  },
  {
   "cell_type": "code",
   "execution_count": 139,
   "metadata": {
    "collapsed": false
   },
   "outputs": [],
   "source": [
    "#Thompson-sampling\n",
    "regret = 0\n",
    "thompson_regret = [0]\n",
    "alpha = np.ones(K)\n",
    "beta = np.ones(K)\n",
    "for t in range(T):\n",
    "    sampled_arms = np.zeros(K)\n",
    "    for k in range(K):\n",
    "        sampled_arms[k] = np.random.beta(alpha[k],beta[k])\n",
    "    a = np.argmax(sampled_arms)\n",
    "    r = np.random.binomial(1,p_reward[a])\n",
    "    if r==1:\n",
    "        alpha[a] = alpha[a] + 1 #increment the corresponding alpha\n",
    "    else:\n",
    "        beta[a] = beta[a] + 1 #increment the corresponding beta\n",
    "    regret = regret + max(p_reward)-p_reward[a]\n",
    "    thompson_regret.append(regret)"
   ]
  },
  {
   "cell_type": "code",
   "execution_count": 142,
   "metadata": {
    "collapsed": false
   },
   "outputs": [
    {
     "data": {
      "image/png": "[encoded data removed]",
      "text/plain": [
       "<matplotlib.figure.Figure at 0x117d88b10>"
      ]
     },
     "metadata": {},
     "output_type": "display_data"
    }
   ],
   "source": [
    "plt.plot(exp3_regret,'r',label='Exp3')\n",
    "plt.plot(ucb_regret,'g',label='UCB')\n",
    "plt.plot(thompson_regret,'b',label='Thompson sampling')\n",
    "plt.ylabel('Cumulative regret')\n",
    "plt.xlabel('Timesteps')\n",
    "plt.legend()\n",
    "plt.show()"
   ]
  },
  {
   "cell_type": "code",
   "execution_count": null,
   "metadata": {
    "collapsed": true
   },
   "outputs": [],
   "source": []
  }
 ],
 "metadata": {
  "kernelspec": {
   "display_name": "Python 2",
   "language": "python",
   "name": "python2"
  },
  "language_info": {
   "codemirror_mode": {
    "name": "ipython",
    "version": 2
   },
   "file_extension": ".py",
   "mimetype": "text/x-python",
   "name": "python",
   "nbconvert_exporter": "python",
   "pygments_lexer": "ipython2",
   "version": "2.7.13"
  }
 },
 "nbformat": 4,
 "nbformat_minor": 2
}
